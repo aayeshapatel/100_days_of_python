{
 "cells": [
  {
   "cell_type": "markdown",
   "metadata": {},
   "source": [
    "1. Geometric Shape Classes:\n",
    "\n",
    "1.1 Create classes for Point, Line, Circle, and Rectangle.\n",
    "\n",
    "1.2 Implement methods to calculate their areas and perimeters.\n",
    "\n",
    "1.3 For Line, include methods to check if it's vertical, horizontal, or parallel to another line.\n",
    "\n",
    "1.4 For Circle, include methods to find its circumference and equation.\n",
    "\n",
    "1.5 For Rectangle, include methods to check if it's a square and to find its diagonal length."
   ]
  },
  {
   "cell_type": "code",
   "execution_count": null,
   "metadata": {
    "vscode": {
     "languageId": "plaintext"
    }
   },
   "outputs": [],
   "source": []
  },
  {
   "cell_type": "markdown",
   "metadata": {},
   "source": []
  },
  {
   "cell_type": "markdown",
   "metadata": {},
   "source": []
  },
  {
   "cell_type": "markdown",
   "metadata": {},
   "source": []
  }
 ],
 "metadata": {
  "language_info": {
   "name": "python"
  }
 },
 "nbformat": 4,
 "nbformat_minor": 2
}
