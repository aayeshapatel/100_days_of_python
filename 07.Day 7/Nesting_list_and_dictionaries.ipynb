{
 "cells": [
  {
   "cell_type": "markdown",
   "metadata": {},
   "source": []
  },
  {
   "cell_type": "code",
   "execution_count": 2,
   "metadata": {},
   "outputs": [],
   "source": [
    "# nesting \n",
    "capitals = {\n",
    "    \"France\":\"Paris\",\n",
    "    \"Germany\" : \"Berlin\"\n",
    "}\n",
    "# Nesting a list in a dictionaries\n",
    "travel_log = {\n",
    "    \"France\": {\"cities_visited\":[\"Paris\" , \"Lille\",\"Dijon\"],\"tital_visits\":12},\n",
    "    \"Germany\" :[\"Berlin\",\"Hamburg\", \"Stuttgart\"]\n",
    "}\n",
    "\n",
    "\n"
   ]
  },
  {
   "cell_type": "markdown",
   "metadata": {},
   "source": [
    "Nested Dictionaries:\n",
    "\n",
    "You have nested dictionaries representing student grades in different subjects. Write a program to calculate the average grade for each student.\n",
    "Example input: {\"Alice\": {\"Math\": 80, \"Science\": 88}, \"Bob\": {\"Math\": 90, \"English\": 75}}."
   ]
  },
  {
   "cell_type": "code",
   "execution_count": 2,
   "metadata": {},
   "outputs": [
    {
     "data": {
      "text/plain": [
       "{'Alice': 84.0, 'Bob': 82.5}"
      ]
     },
     "execution_count": 2,
     "metadata": {},
     "output_type": "execute_result"
    }
   ],
   "source": [
    "scores= {\"Alice\": {\"Math\": 80, \"Science\": 88}, \n",
    " \"Bob\": {\"Math\": 90, \"English\": 75}}\n",
    "\n",
    "# lets understand the structure of nested list above \n",
    "# score ={student== (key):{grade}==(value)}\n",
    "        \n",
    "average_grades = {}\n",
    "# Iterate through each student in the student_grades dictionary\n",
    "for student, grades in scores.items():\n",
    "    # Sum up all the grades and divide by the number of subjects to get the average\n",
    "    average = sum(grades.values()) / len(grades)\n",
    "    # Add the calculated average to the average_grades dictionary\n",
    "    average_grades[student] = average\n",
    "\n",
    "average_grades\n",
    "        \n",
    "\n",
    "\n",
    "\n",
    "\n",
    "    \n",
    "        "
   ]
  }
 ],
 "metadata": {
  "kernelspec": {
   "display_name": "Python 3",
   "language": "python",
   "name": "python3"
  },
  "language_info": {
   "codemirror_mode": {
    "name": "ipython",
    "version": 3
   },
   "file_extension": ".py",
   "mimetype": "text/x-python",
   "name": "python",
   "nbconvert_exporter": "python",
   "pygments_lexer": "ipython3",
   "version": "3.11.1"
  }
 },
 "nbformat": 4,
 "nbformat_minor": 2
}
