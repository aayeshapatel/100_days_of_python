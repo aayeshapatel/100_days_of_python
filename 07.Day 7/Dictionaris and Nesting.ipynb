{
 "cells": [
  {
   "cell_type": "markdown",
   "metadata": {},
   "source": [
    "----Dictionaries--- "
   ]
  },
  {
   "cell_type": "markdown",
   "metadata": {},
   "source": [
    "It is best to think of a dictionary as a set of key: value pairs, with the requirement that the keys are unique (within one dictionary). A pair of braces creates an empty dictionary: {}. Placing a comma-separated list of key:value pairs within the braces adds initial key:value pairs to the dictionary; this is also the way dictionaries are written on output."
   ]
  },
  {
   "cell_type": "code",
   "execution_count": 11,
   "metadata": {},
   "outputs": [
    {
     "name": "stdout",
     "output_type": "stream",
     "text": [
      "An error in a program that prevents the program from running as expected.\n",
      "{'Bug': 'An error in a program that prevents the program from running as expected.', 'Function': 'A piece of code that you can easily call over and over again.', 'Loop': 'The action of doing things again and again'}\n"
     ]
    }
   ],
   "source": [
    "\n",
    "programming_dictionary = {\n",
    "    \"Bug\": \"An error in a program that prevents the program from running as expected.\", \n",
    "    \"Function\": \"A piece of code that you can easily call over and over again.\"}\n",
    "# Retrieving items from Dict\n",
    "print(programming_dictionary[\"Bug\"])\n",
    "\n",
    "# adding new items to dict\n",
    "programming_dictionary[\"Loop\"] = \"The action of doing things again and again\"\n",
    "print(programming_dictionary)"
   ]
  },
  {
   "cell_type": "markdown",
   "metadata": {},
   "source": [
    "create an empty dict"
   ]
  },
  {
   "cell_type": "code",
   "execution_count": 4,
   "metadata": {},
   "outputs": [],
   "source": [
    "empty_Dict = {}"
   ]
  },
  {
   "cell_type": "markdown",
   "metadata": {},
   "source": [
    "Wipe an exixting dict"
   ]
  },
  {
   "cell_type": "code",
   "execution_count": 5,
   "metadata": {},
   "outputs": [
    {
     "name": "stdout",
     "output_type": "stream",
     "text": [
      "{}\n"
     ]
    }
   ],
   "source": [
    "# programming_dictionary ={}\n",
    "# print(programming_dictionary)"
   ]
  },
  {
   "cell_type": "markdown",
   "metadata": {},
   "source": [
    "Edit an item in a Dictionary"
   ]
  },
  {
   "cell_type": "code",
   "execution_count": 7,
   "metadata": {},
   "outputs": [],
   "source": [
    "programming_dictionary[\"Bug\"] = \"A moth in your computer\""
   ]
  },
  {
   "cell_type": "code",
   "execution_count": 8,
   "metadata": {},
   "outputs": [
    {
     "name": "stdout",
     "output_type": "stream",
     "text": [
      "{'Bug': 'A moth in your computer', 'Function': 'A piece of code that you can easily call over and over again.', 'Loop': 'The action of doing things again and again'}\n"
     ]
    }
   ],
   "source": [
    "print(programming_dictionary)"
   ]
  },
  {
   "cell_type": "markdown",
   "metadata": {},
   "source": [
    "Loop through a Dict "
   ]
  },
  {
   "cell_type": "code",
   "execution_count": 10,
   "metadata": {},
   "outputs": [
    {
     "name": "stdout",
     "output_type": "stream",
     "text": [
      "Bug\n",
      "A moth in your computer\n",
      "Function\n",
      "A piece of code that you can easily call over and over again.\n",
      "Loop\n",
      "The action of doing things again and again\n"
     ]
    }
   ],
   "source": [
    "for key in programming_dictionary:\n",
    "    print(key)\n",
    "    print(programming_dictionary[key])"
   ]
  },
  {
   "cell_type": "markdown",
   "metadata": {},
   "source": [
    "When looping through dictionaries, the key and corresponding value can be retrieved at the same time using the items() method."
   ]
  },
  {
   "cell_type": "code",
   "execution_count": 12,
   "metadata": {},
   "outputs": [
    {
     "name": "stdout",
     "output_type": "stream",
     "text": [
      "gallahad the pure\n",
      "robin the brave\n"
     ]
    }
   ],
   "source": [
    "knights = {'gallahad': 'the pure', 'robin': 'the brave'}\n",
    "for k, v in knights.items():\n",
    "    print(k, v)\n"
   ]
  },
  {
   "cell_type": "markdown",
   "metadata": {},
   "source": [
    "Write a program to create a dictionary that stores the names of different fruits and their corresponding prices per kilogram."
   ]
  },
  {
   "cell_type": "code",
   "execution_count": 1,
   "metadata": {},
   "outputs": [],
   "source": [
    "Fruits  ={\"Apple\":90, \n",
    "         \"orange\": 80,\n",
    "         \"kiwi\":130,\n",
    "         \"Avocado\":350}"
   ]
  },
  {
   "cell_type": "markdown",
   "metadata": {},
   "source": [
    "Accessing Values:\n",
    "\n",
    "Given a dictionary {\"Alice\": 25, \"Bob\": 27, \"Eve\": 22}, write a program to print the age of Bob"
   ]
  },
  {
   "cell_type": "code",
   "execution_count": 2,
   "metadata": {},
   "outputs": [
    {
     "data": {
      "text/plain": [
       "27"
      ]
     },
     "execution_count": 2,
     "metadata": {},
     "output_type": "execute_result"
    }
   ],
   "source": [
    "students = {\"Alice\": 25, \"Bob\": 27, \"Eve\": 22}\n",
    "students[\"Bob\"]"
   ]
  },
  {
   "cell_type": "markdown",
   "metadata": {},
   "source": [
    "Adding Elements:\n",
    "\n",
    "Start with an empty dictionary. Add the following key-value pairs: {\"name\": \"John\", \"age\": 30, \"city\": \"New York\"}."
   ]
  },
  {
   "cell_type": "code",
   "execution_count": 4,
   "metadata": {},
   "outputs": [
    {
     "data": {
      "text/plain": [
       "{'name': 'John', 'age': 30, 'city': 'New York'}"
      ]
     },
     "execution_count": 4,
     "metadata": {},
     "output_type": "execute_result"
    }
   ],
   "source": [
    "info = {}\n",
    "info[\"name\"]= \"John\"\n",
    "info[\"age\"] = 30\n",
    "info[\"city\"] = \"New York\"\n",
    "info"
   ]
  },
  {
   "cell_type": "markdown",
   "metadata": {},
   "source": [
    "Iterating Over a Dictionary:\n",
    "\n",
    "Given a dictionary, iterate over it and print out each key and value in the format: \"Key: [key], Value: [value]\""
   ]
  },
  {
   "cell_type": "code",
   "execution_count": 6,
   "metadata": {},
   "outputs": [
    {
     "name": "stdout",
     "output_type": "stream",
     "text": [
      "Key: Apple, Value : 3.5\n",
      "Key: Banana, Value : 0.5\n",
      "Key: Cherry, Value : 5.0\n",
      "Key: Dates, Value : 2.3\n",
      "Key: Elderberry, Value : 1.75\n"
     ]
    }
   ],
   "source": [
    "fruit_prices = {\n",
    "    \"Apple\": 3.50,\n",
    "    \"Banana\": 0.50,\n",
    "    \"Cherry\": 5.00,\n",
    "    \"Dates\": 2.30,\n",
    "    \"Elderberry\": 1.75\n",
    "}\n",
    "\n",
    "for fruit,  price in fruit_prices.items():\n",
    "    print(f\"Key: {fruit}, Value : {price}\")"
   ]
  },
  {
   "cell_type": "markdown",
   "metadata": {},
   "source": [
    "Dictionary Manipulation:\n",
    "\n",
    "Given a dictionary {\"a\": 1, \"b\": 2, \"c\": 3}, write a program to add 1 to every value in the dictionary ({\"a\": 2, \"b\": 3, \"c\": 4})."
   ]
  },
  {
   "cell_type": "code",
   "execution_count": 12,
   "metadata": {},
   "outputs": [
    {
     "name": "stdout",
     "output_type": "stream",
     "text": [
      "{'a': 2, 'b': 3, 'c': 4}\n"
     ]
    }
   ],
   "source": [
    "dict1 = {\"a\": 1, \"b\": 2, \"c\": 3}\n",
    "for i in dict1:\n",
    "    dict1[i] +=1 \n",
    "print(dict1)"
   ]
  },
  {
   "cell_type": "markdown",
   "metadata": {},
   "source": [
    "Merging Dictionaries:\n",
    "\n",
    "Write a program to merge two dictionaries into one. For example, dict1 = {\"a\": 1, \"b\": 2} and dict2 = {\"c\": 3, \"d\": 4} should result in {\"a\": 1, \"b\": 2, \"c\": 3, \"d\": 4}."
   ]
  },
  {
   "cell_type": "code",
   "execution_count": 15,
   "metadata": {},
   "outputs": [
    {
     "name": "stdout",
     "output_type": "stream",
     "text": [
      "dict1 is :{'a': 1, 'b': 2, 'c': 3, 'd': 4}\n",
      "dict2 is :{'c': 3, 'd': 4}\n"
     ]
    }
   ],
   "source": [
    "dict1 = {\"a\": 1, \"b\": 2}\n",
    "dict2 = {\"c\": 3, \"d\": 4}\n",
    "\n",
    "dict1.update(dict2)\n",
    "print(f\"dict1 is :{dict1}\")\n",
    "print(f\"dict2 is :{dict2}\")\n"
   ]
  },
  {
   "cell_type": "code",
   "execution_count": 16,
   "metadata": {},
   "outputs": [
    {
     "name": "stdout",
     "output_type": "stream",
     "text": [
      "{'a': 1, 'b': 2, 'c': 3, 'd': 4}\n"
     ]
    }
   ],
   "source": [
    "# alternative approach \n",
    "merged_dict = {**dict1 ,**dict2}\n",
    "print(merged_dict)"
   ]
  },
  {
   "cell_type": "code",
   "execution_count": 17,
   "metadata": {},
   "outputs": [
    {
     "data": {
      "text/plain": [
       "{'a': 1, 'b': 2, 'c': 3, 'd': 4}"
      ]
     },
     "execution_count": 17,
     "metadata": {},
     "output_type": "execute_result"
    }
   ],
   "source": [
    "merged_dict  = dict1 | dict2\n",
    "merged_dict"
   ]
  },
  {
   "cell_type": "code",
   "execution_count": null,
   "metadata": {},
   "outputs": [],
   "source": []
  },
  {
   "cell_type": "markdown",
   "metadata": {},
   "source": [
    "Counting Items:\n",
    "\n",
    "Given a list of items, count how many times each item appears and store this count in a dictionary.\n",
    "\n",
    "sampel input :\n",
    "\n",
    "colors = [\"red\", \"blue\", \"green\", \"red\", \"blue\", \"red\"]\n",
    "\n",
    "ssample output :\n",
    "\n",
    "{'red': 3, 'blue': 2, 'green': 1}\n"
   ]
  },
  {
   "cell_type": "code",
   "execution_count": 21,
   "metadata": {},
   "outputs": [
    {
     "data": {
      "text/plain": [
       "{'red': 3, 'blue': 2, 'green': 1}"
      ]
     },
     "execution_count": 21,
     "metadata": {},
     "output_type": "execute_result"
    }
   ],
   "source": [
    "colors = [\"red\", \"blue\", \"green\", \"red\", \"blue\", \"red\"]\n",
    "color_counts ={}\n",
    "for color in colors:\n",
    "    if color in color_counts:\n",
    "        color_counts[color] += 1\n",
    "    else:\n",
    "        color_counts[color] = 1\n",
    "\n",
    "color_counts\n",
    "\n",
    "    \n",
    "\n",
    "    \n",
    "\n"
   ]
  },
  {
   "cell_type": "markdown",
   "metadata": {},
   "source": [
    "Filtering a Dictionary:\n",
    "\n",
    "Write a program that filters a dictionary by removing pairs where the value is greater than 10. For example, from {\"a\": 5, \"b\": 15, \"c\": 8}, it should become {\"a\": 5, \"c\": 8}."
   ]
  },
  {
   "cell_type": "code",
   "execution_count": 24,
   "metadata": {},
   "outputs": [
    {
     "name": "stdout",
     "output_type": "stream",
     "text": [
      "{'a': 5, 'c': 8}\n"
     ]
    }
   ],
   "source": [
    "dict_1 = {\"a\": 5, \"b\": 15, \"c\": 8}\n",
    "for key in list(dict_1.keys()):\n",
    "    if dict_1[key] >10 :\n",
    "        del dict_1[key]\n",
    "print(dict_1)\n"
   ]
  },
  {
   "cell_type": "markdown",
   "metadata": {},
   "source": []
  }
 ],
 "metadata": {
  "kernelspec": {
   "display_name": "Python 3",
   "language": "python",
   "name": "python3"
  },
  "language_info": {
   "codemirror_mode": {
    "name": "ipython",
    "version": 3
   },
   "file_extension": ".py",
   "mimetype": "text/x-python",
   "name": "python",
   "nbconvert_exporter": "python",
   "pygments_lexer": "ipython3",
   "version": "3.11.1"
  }
 },
 "nbformat": 4,
 "nbformat_minor": 2
}
