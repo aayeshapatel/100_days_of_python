{
 "cells": [
  {
   "cell_type": "markdown",
   "metadata": {},
   "source": [
    "--- Password generator -- "
   ]
  },
  {
   "cell_type": "code",
   "execution_count": 23,
   "metadata": {},
   "outputs": [
    {
     "name": "stdout",
     "output_type": "stream",
     "text": [
      "Welcome to the PyPassword Generator\n"
     ]
    },
    {
     "name": "stdout",
     "output_type": "stream",
     "text": [
      "Total letters: 7\n",
      "Symbols: 5\n",
      "Numbers: 3\n",
      "UWIypPx(^$#&950\n"
     ]
    }
   ],
   "source": [
    "import random\n",
    "\n",
    "print(\"Welcome to the PyPassword Generator\")\n",
    "nr_letters = int(input(\"How many letters do you want in your password? \"))\n",
    "print(f\"Total letters: {nr_letters}\")\n",
    "\n",
    "nr_symbols = int(input(\"How many symbols would you like? \"))\n",
    "print(f\"Symbols: {nr_symbols}\")\n",
    "\n",
    "nr_numbers = int(input(\"How many numbers would you like? \"))\n",
    "print(f\"Numbers: {nr_numbers}\")\n",
    "\n",
    "letters = ['A', 'B', 'C', 'D', 'E', 'F', 'G', 'H', 'I', 'J', 'K', 'L', 'M',\n",
    "           'N', 'O', 'P', 'Q', 'R', 'S', 'T', 'U', 'V', 'W', 'X', 'Y', 'Z',\n",
    "           'a', 'b', 'c', 'd', 'e', 'f', 'g', 'h', 'i', 'j', 'k', 'l', 'm',\n",
    "           'n', 'o', 'p', 'q', 'r', 's', 't', 'u', 'v', 'w', 'x', 'y', 'z']\n",
    "\n",
    "numbers = ['0', '1', '2', '3', '4', '5', '6', '7', '8', '9']\n",
    "\n",
    "symbols = ['!', '@', '#', '$', '%', '^', '&', '*', '(', ')', '+']\n",
    "\n",
    "password = \"\"\n",
    "\n",
    "for char in range(1, nr_letters + 1):\n",
    "    password += random.choice(letters)\n",
    "\n",
    "for char in range(1, nr_symbols + 1):\n",
    "    password += random.choice(symbols)\n",
    "\n",
    "for char in range(1, nr_numbers + 1):\n",
    "    password += random.choice(numbers)\n",
    "\n",
    "print(password)\n",
    "\n"
   ]
  },
  {
   "cell_type": "code",
   "execution_count": 28,
   "metadata": {},
   "outputs": [
    {
     "name": "stdout",
     "output_type": "stream",
     "text": [
      "['M', 'n', 'B', 'i', 'z', 'P', 'O', '%', '!', '(', '%', ')', '0', '8']\n",
      "['P', '0', '!', 'M', 'O', 'n', '%', '(', 'B', 'i', 'z', ')', '8', '%']\n",
      "Your passsword is P0!MOn%(Biz)8% .\n"
     ]
    }
   ],
   "source": [
    "# Hard level \n",
    "password_list = []\n",
    "\n",
    "for char in range(1 , nr_letters+1):\n",
    "    password_list += random.choice(letters)\n",
    "for char in range(1, nr_symbols+1):\n",
    "    password_list += random.choice(symbols)\n",
    "for char in range(1,nr_numbers):\n",
    "    password_list += random.choice(numbers)\n",
    "\n",
    "print(password_list)\n",
    "random.shuffle(password_list)\n",
    "print(password_list)\n",
    "\n",
    "password=\"\"\n",
    "for char in password_list:\n",
    "    password += char \n",
    "\n",
    "print(f\"Your passsword is {password} .\")\n"
   ]
  },
  {
   "cell_type": "markdown",
   "metadata": {},
   "source": []
  },
  {
   "cell_type": "code",
   "execution_count": null,
   "metadata": {},
   "outputs": [],
   "source": []
  }
 ],
 "metadata": {
  "kernelspec": {
   "display_name": "Python 3",
   "language": "python",
   "name": "python3"
  },
  "language_info": {
   "codemirror_mode": {
    "name": "ipython",
    "version": 3
   },
   "file_extension": ".py",
   "mimetype": "text/x-python",
   "name": "python",
   "nbconvert_exporter": "python",
   "pygments_lexer": "ipython3",
   "version": "3.11.1"
  }
 },
 "nbformat": 4,
 "nbformat_minor": 2
}
