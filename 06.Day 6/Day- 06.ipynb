{
 "cells": [
  {
   "cell_type": "markdown",
   "metadata": {},
   "source": [
    "Day-06- Python functions and Karel\n",
    "\n",
    " functions , code blocks and while loop"
   ]
  },
  {
   "cell_type": "markdown",
   "metadata": {},
   "source": [
    "A function is a block of code that performs a specific task whenever it is called. There are two types of functions: built-in functions user-defined functions\n",
    "\n",
    "built-in functions:\n",
    "These functions are defined and pre-coded in python. examples: min(), max(), len(), sum(), type(), range(), dict(), list(), tuple(), set(), print(), etc\n",
    "\n",
    "user-defined functions:\n",
    "We can create functions to perform specific tasks as per our needs. Such functions are called user-defined functions."
   ]
  },
  {
   "cell_type": "markdown",
   "metadata": {},
   "source": [
    "Q1. Create a function is_even that takes a number and returns True if the number is even, otherwise False."
   ]
  },
  {
   "cell_type": "code",
   "execution_count": 1,
   "metadata": {},
   "outputs": [
    {
     "name": "stdout",
     "output_type": "stream",
     "text": [
      "5 is not an even number \n"
     ]
    }
   ],
   "source": [
    "def is_even_number(n):\n",
    "    if n%2==0:\n",
    "        print(f\"{n} is an even number. \")\n",
    "    else:\n",
    "        print(f\"{n} is not an even number \")\n",
    "is_even_number(5)"
   ]
  },
  {
   "cell_type": "markdown",
   "metadata": {},
   "source": [
    "Q2. Calculate Area of a Circle: Write a function circle_area that takes the radius of a circle as an argument and returns its area. (Use π = 3.14)\n",
    "\n"
   ]
  },
  {
   "cell_type": "code",
   "execution_count": 2,
   "metadata": {},
   "outputs": [
    {
     "name": "stdout",
     "output_type": "stream",
     "text": [
      "Area od circle with radius 7 is 153.86 . \n"
     ]
    }
   ],
   "source": [
    "# area of circle = 3.14*r*r\n",
    "def area_of_circle(radius):\n",
    "    area= 3.14*(radius**2)\n",
    "    print(f\"Area od circle with radius {radius} is {area} . \")\n",
    "area_of_circle(7)\n",
    "\n",
    "\n",
    "\n"
   ]
  },
  {
   "cell_type": "markdown",
   "metadata": {},
   "source": [
    "Q3. Count Vowels in String: Define a function count_vowels that takes a string as input and returns the count of vowels in the string."
   ]
  },
  {
   "cell_type": "code",
   "execution_count": 12,
   "metadata": {},
   "outputs": [
    {
     "data": {
      "text/plain": [
       "10"
      ]
     },
     "execution_count": 12,
     "metadata": {},
     "output_type": "execute_result"
    }
   ],
   "source": [
    "String= \"You are doing a great job\"\n",
    "\n",
    "def count_vowels(String):\n",
    "    vowels =[\"a\",\"e\",\"i\",\"o\",\"u\",\"A\",\"E\",\"I\",\"O\",\"U\"]\n",
    "    number_of_vowels = 0 \n",
    "    for char in String:\n",
    "        if char in vowels:\n",
    "            number_of_vowels +=  1\n",
    "    return number_of_vowels \n",
    "\n",
    "count_vowels(String)\n"
   ]
  },
  {
   "cell_type": "markdown",
   "metadata": {},
   "source": [
    "Q4. Factorial Calculator: Create a function calculate_factorial that takes a number and returns its factorial.\n",
    "\n"
   ]
  },
  {
   "cell_type": "code",
   "execution_count": 43,
   "metadata": {},
   "outputs": [],
   "source": [
    "# 5! = 1*2*3*4*5\n",
    "\n",
    "def factorial(n):\n",
    "    factors= 1\n",
    "    for i in range(1,n+1):\n",
    "        factors *= i  \n",
    "    print(factors)\n",
    "        "
   ]
  },
  {
   "cell_type": "code",
   "execution_count": 44,
   "metadata": {},
   "outputs": [
    {
     "name": "stdout",
     "output_type": "stream",
     "text": [
      "120\n"
     ]
    }
   ],
   "source": [
    "factorial(5)"
   ]
  },
  {
   "cell_type": "markdown",
   "metadata": {},
   "source": [
    "Q5. Fibonacci Sequence Generator: Write a function fibonacci that takes a number n as an argument and returns the first n elements of the Fibonacci sequence.\n",
    "The sequence goes like this:\n",
    "\n",
    "0, 1, 1, 2, 3, 5, 8, 13, 21, 34, ..."
   ]
  },
  {
   "cell_type": "code",
   "execution_count": 59,
   "metadata": {},
   "outputs": [],
   "source": [
    "def fibonacci_seq(n):\n",
    "    seq = [0,1]\n",
    "    for i in range(2,n):\n",
    "        next_element = seq[i-1]+seq[i-2]\n",
    "        seq.append(next_element)\n",
    "    print(seq)"
   ]
  },
  {
   "cell_type": "code",
   "execution_count": 60,
   "metadata": {},
   "outputs": [
    {
     "name": "stdout",
     "output_type": "stream",
     "text": [
      "[0, 1, 1, 2, 3]\n"
     ]
    }
   ],
   "source": [
    "fibonacci_seq(5)"
   ]
  },
  {
   "cell_type": "markdown",
   "metadata": {},
   "source": [
    "Q6. Prime Number Checker: Define a function is_prime that takes a number and returns True if it is a prime number, otherwise False."
   ]
  },
  {
   "cell_type": "code",
   "execution_count": 76,
   "metadata": {},
   "outputs": [],
   "source": [
    "def is_prime(n):\n",
    "    if n < 2:\n",
    "        return False\n",
    "    if n == 2:\n",
    "        return True\n",
    "    if n % 2 == 0:\n",
    "        return False\n",
    "    for i in range(3, int(n**0.5) + 1, 2):\n",
    "        if n % i == 0:\n",
    "            return False\n",
    "    return True\n",
    "\n"
   ]
  },
  {
   "cell_type": "code",
   "execution_count": 78,
   "metadata": {},
   "outputs": [
    {
     "data": {
      "text/plain": [
       "False"
      ]
     },
     "execution_count": 78,
     "metadata": {},
     "output_type": "execute_result"
    }
   ],
   "source": [
    "is_prime(10101)"
   ]
  },
  {
   "cell_type": "code",
   "execution_count": 69,
   "metadata": {},
   "outputs": [
    {
     "data": {
      "text/plain": [
       "0"
      ]
     },
     "execution_count": 69,
     "metadata": {},
     "output_type": "execute_result"
    }
   ],
   "source": []
  }
 ],
 "metadata": {
  "kernelspec": {
   "display_name": "Python 3",
   "language": "python",
   "name": "python3"
  },
  "language_info": {
   "codemirror_mode": {
    "name": "ipython",
    "version": 3
   },
   "file_extension": ".py",
   "mimetype": "text/x-python",
   "name": "python",
   "nbconvert_exporter": "python",
   "pygments_lexer": "ipython3",
   "version": "3.11.1"
  }
 },
 "nbformat": 4,
 "nbformat_minor": 2
}
