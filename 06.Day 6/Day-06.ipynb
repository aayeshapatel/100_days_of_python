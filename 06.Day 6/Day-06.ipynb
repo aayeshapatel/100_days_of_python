{
 "cells": [
  {
   "cell_type": "markdown",
   "metadata": {},
   "source": [
    "## ---- Functions in python---  "
   ]
  },
  {
   "cell_type": "markdown",
   "metadata": {},
   "source": [
    "#### Function Arguments\n",
    "There are four types of arguments that we can provide in a function: \n",
    "1). Default Arguments \n",
    "2). Keyword Arguments \n",
    "3). Required Arguments \n",
    "4). Variable-length Arguments\n",
    "\n",
    "Default arguments: We can provide a default value while creating a function. This way the function assumes a default value even if a value is not provided in the function call for that argument."
   ]
  },
  {
   "cell_type": "code",
   "execution_count": 1,
   "metadata": {},
   "outputs": [
    {
     "name": "stdout",
     "output_type": "stream",
     "text": [
      "Character Profile:\n",
      "Name: Eldor\n",
      "Role: Wizard\n",
      "Race: Human\n",
      "Strength: 10\n",
      "Agility: 10\n",
      "Intelligence: 18\n"
     ]
    }
   ],
   "source": [
    "def create_character(name, role=\"Adventurer\", race=\"Human\", strength=10, agility=10, intelligence=10):\n",
    "    print(\"Character Profile:\")\n",
    "    print(\"Name:\", name)\n",
    "    print(\"Role:\", role)\n",
    "    print(\"Race:\", race)\n",
    "    print(\"Strength:\", strength)\n",
    "    print(\"Agility:\", agility)\n",
    "    print(\"Intelligence:\", intelligence)\n",
    "\n",
    "# Example usage\n",
    "create_character(\"Eldor\", role=\"Wizard\", intelligence=18)\n"
   ]
  },
  {
   "cell_type": "markdown",
   "metadata": {},
   "source": [
    "Keyword arguments: We can provide arguments with key = value, this way the interpreter recognizes the arguments by the parameter name. Hence, the the order in which the arguments are passed does not matter.\n"
   ]
  },
  {
   "cell_type": "code",
   "execution_count": 2,
   "metadata": {},
   "outputs": [
    {
     "name": "stdout",
     "output_type": "stream",
     "text": [
      "Vacation Plan:\n",
      "Destination: Japan\n",
      "Duration (days): 10\n",
      "Transportation mode: train\n",
      "Accommodation type: hostel\n",
      "Budget category: economy\n"
     ]
    }
   ],
   "source": [
    "def plan_vacation(destination, duration=7, transportation=\"airplane\", accommodation=\"hotel\", budget=\"standard\"):\n",
    "    print(\"Vacation Plan:\")\n",
    "    print(\"Destination:\", destination)\n",
    "    print(\"Duration (days):\", duration)\n",
    "    print(\"Transportation mode:\", transportation)\n",
    "    print(\"Accommodation type:\", accommodation)\n",
    "    print(\"Budget category:\", budget)\n",
    "\n",
    "# Example usage with keyword arguments\n",
    "plan_vacation(destination=\"Japan\", transportation=\"train\", duration=10, accommodation=\"hostel\", budget=\"economy\")\n"
   ]
  },
  {
   "cell_type": "markdown",
   "metadata": {},
   "source": [
    "Required arguments: In case we don’t pass the arguments with a key = value syntax, then it is necessary to pass the arguments in the correct positional order and the number of arguments passed should match with actual function definition."
   ]
  },
  {
   "cell_type": "code",
   "execution_count": 3,
   "metadata": {},
   "outputs": [
    {
     "name": "stdout",
     "output_type": "stream",
     "text": [
      "Total meal cost: $ 62.5\n"
     ]
    }
   ],
   "source": [
    "def calculate_total_cost(meal_price, tax_rate, tip_percentage):\n",
    "    tax_amount = meal_price * (tax_rate / 100)\n",
    "    tip_amount = meal_price * (tip_percentage / 100)\n",
    "    total_cost = meal_price + tax_amount + tip_amount\n",
    "    return total_cost\n",
    "\n",
    "# Example usage\n",
    "meal_price = 50  # $50 for the meal\n",
    "tax_rate = 10    # 10% tax\n",
    "tip_percentage = 15  # 15% tip\n",
    "\n",
    "total_meal_cost = calculate_total_cost(meal_price, tax_rate, tip_percentage)\n",
    "print(\"Total meal cost: $\", total_meal_cost)\n"
   ]
  },
  {
   "cell_type": "markdown",
   "metadata": {},
   "source": [
    "Variable-length arguments: Sometimes we may need to pass more arguments than those defined in the actual function. This can be done using variable-length arguments.\n",
    "\n",
    "Variable-length arguments in Python allow a function to accept an arbitrary number of arguments. This is particularly useful when you are not sure how many arguments might be passed to your function. Python uses special syntax *args (for non-keyword variable-length arguments) and **kwargs (for keyword variable-length arguments) to handle this.\n",
    "\n",
    "\n"
   ]
  },
  {
   "cell_type": "code",
   "execution_count": 4,
   "metadata": {},
   "outputs": [
    {
     "name": "stdout",
     "output_type": "stream",
     "text": [
      "Average of 1, 2, 3: 2.0\n",
      "Average of 4, 5, 6, 7, 8: 6.0\n"
     ]
    }
   ],
   "source": [
    "def calculate_average(*numbers):\n",
    "    if not numbers:\n",
    "        return 0\n",
    "    total = sum(numbers)\n",
    "    count = len(numbers)\n",
    "    average = total / count\n",
    "    return average\n",
    "\n",
    "# Example usage\n",
    "print(\"Average of 1, 2, 3:\", calculate_average(1, 2, 3))\n",
    "print(\"Average of 4, 5, 6, 7, 8:\", calculate_average(4, 5, 6, 7, 8))"
   ]
  },
  {
   "cell_type": "markdown",
   "metadata": {},
   "source": [
    "Python Recursion\n",
    "\n",
    "\n",
    "We can let the function call itself, such a process is known as calling a function recursively in python."
   ]
  },
  {
   "cell_type": "code",
   "execution_count": null,
   "metadata": {},
   "outputs": [],
   "source": [
    "def factorial(num): \n",
    "    if (num == 1 or num == 0):\n",
    "        return 1\n",
    "    else:\n",
    "        return (num * factorial(num - 1)) \n",
    " \n",
    "num = int(input(\"Enter The Number\"))\n",
    "print(\"number: \",num)\n",
    "print(\"Factorial: \",factorial(num))\n"
   ]
  },
  {
   "cell_type": "markdown",
   "metadata": {},
   "source": [
    "Recursion is a powerful tool, but it's important to define the base case correctly to prevent infinite recursion, which can lead to a stack overflow error."
   ]
  },
  {
   "cell_type": "code",
   "execution_count": 5,
   "metadata": {},
   "outputs": [
    {
     "name": "stdout",
     "output_type": "stream",
     "text": [
      "         1 \n",
      "        1 1 \n",
      "       1 2 1 \n",
      "      1 3 3 1 \n",
      "     1 4 6 4 1 \n",
      "    1 5 10 10 5 1 \n",
      "   1 6 15 20 15 6 1 \n",
      "  1 7 21 35 35 21 7 1 \n"
     ]
    }
   ],
   "source": [
    "#Pascal's Triangle\n",
    "from math import factorial\n",
    "\n",
    "def pascal_triangle(n):\n",
    "   for i in range(n):\n",
    "       for j in range(n-i+1):\n",
    "           print(end=' ')\n",
    "       for j in range(i+1):       \n",
    "           print(factorial(i)//(factorial(j)*factorial(i-j)), end=' ')\n",
    "       print()\n",
    "\n",
    "if __name__ == '__main__':\n",
    "   pascal_triangle(8)"
   ]
  }
 ],
 "metadata": {
  "kernelspec": {
   "display_name": "Python 3",
   "language": "python",
   "name": "python3"
  },
  "language_info": {
   "codemirror_mode": {
    "name": "ipython",
    "version": 3
   },
   "file_extension": ".py",
   "mimetype": "text/x-python",
   "name": "python",
   "nbconvert_exporter": "python",
   "pygments_lexer": "ipython3",
   "version": "3.11.1"
  }
 },
 "nbformat": 4,
 "nbformat_minor": 2
}
