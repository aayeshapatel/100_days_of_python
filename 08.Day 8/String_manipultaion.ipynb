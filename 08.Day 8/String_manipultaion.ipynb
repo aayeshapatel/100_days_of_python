{
 "cells": [
  {
   "cell_type": "markdown",
   "metadata": {},
   "source": [
    "# String manipulation "
   ]
  },
  {
   "cell_type": "markdown",
   "metadata": {},
   "source": [
    "Q1. Reverse a String: Write a function that takes a string as input and returns the string reversed."
   ]
  },
  {
   "cell_type": "code",
   "execution_count": 16,
   "metadata": {},
   "outputs": [],
   "source": [
    "s = \"abcdefg\"\n",
    "def reversed_string(s):\n",
    "    return s[::-1]"
   ]
  },
  {
   "cell_type": "code",
   "execution_count": 17,
   "metadata": {},
   "outputs": [
    {
     "data": {
      "text/plain": [
       "'gfedcba'"
      ]
     },
     "execution_count": 17,
     "metadata": {},
     "output_type": "execute_result"
    }
   ],
   "source": [
    "reversed_string(s)"
   ]
  },
  {
   "cell_type": "markdown",
   "metadata": {},
   "source": [
    "Q2. Check for Palindrome: Write a program to check if a given string is a palindrome (a string that reads the same forward and backward).\n",
    "Eg.\n",
    "For \"racecar\", the output: True or \"The string is a palindrome\"\n",
    "For \"hello\", the output: False or \"The string is not a palindrome"
   ]
  },
  {
   "cell_type": "code",
   "execution_count": 35,
   "metadata": {},
   "outputs": [],
   "source": [
    "\n",
    "def is_palindrome(s):\n",
    "    cleaned_s = \"\".join(char.lower() for char in s if char.isalnum())\n",
    "    return cleaned_s == cleaned_s[::-1]"
   ]
  },
  {
   "cell_type": "code",
   "execution_count": 36,
   "metadata": {},
   "outputs": [
    {
     "data": {
      "text/plain": [
       "False"
      ]
     },
     "execution_count": 36,
     "metadata": {},
     "output_type": "execute_result"
    }
   ],
   "source": [
    "h= \"Hello\"\n",
    "is_palindrome(h)\n"
   ]
  },
  {
   "cell_type": "markdown",
   "metadata": {},
   "source": [
    "Q3 . Count Vowels and Consonants: Write a function that takes a string and returns the number of vowels and consonants in it.\n",
    "\n"
   ]
  },
  {
   "cell_type": "code",
   "execution_count": 56,
   "metadata": {},
   "outputs": [],
   "source": [
    "def count_vowels_consonants(s):\n",
    "    vowel_count = 0\n",
    "    consonant_count = 0\n",
    "    vowels = 'aeiou'\n",
    "\n",
    "    for char in s:\n",
    "        if char.lower() in vowels:  # Check if the character is a vowel\n",
    "            vowel_count += 1\n",
    "        elif char.isalpha():  # Check if the character is a consonant (and ignore non-alphabetic characters)\n",
    "            consonant_count += 1\n",
    "\n",
    "    return vowel_count, consonant_count\n",
    "\n",
    "# Example usage\n",
    "vowels, consonants = count_vowels_consonants(\"Hello World\")\n",
    "print(\"Vowels:\", vowels)\n",
    "print(\"Consonants:\", consonants)\n"
   ]
  },
  {
   "cell_type": "markdown",
   "metadata": {},
   "source": [
    "Q4 . Find and Replace: Write a function that takes a string and two characters, and replaces all occurrences of the first character with the second character."
   ]
  },
  {
   "cell_type": "code",
   "execution_count": 73,
   "metadata": {},
   "outputs": [],
   "source": [
    "def replace_a_b(s,a,b):\n",
    "    return s.replace(a,b)\n",
    "# more efficient "
   ]
  },
  {
   "cell_type": "code",
   "execution_count": 75,
   "metadata": {},
   "outputs": [
    {
     "data": {
      "text/plain": [
       "'Pe@ce'"
      ]
     },
     "execution_count": 75,
     "metadata": {},
     "output_type": "execute_result"
    }
   ],
   "source": [
    "x = \"Peace\"\n",
    "replace_a_b(x,a=\"a\",b=\"@\")"
   ]
  },
  {
   "cell_type": "code",
   "execution_count": null,
   "metadata": {},
   "outputs": [],
   "source": [
    "def replace_a_b(s, a, b):\n",
    "    result = \"\"\n",
    "    for char in s:\n",
    "        if char == a:\n",
    "            result += b\n",
    "        else:\n",
    "            result += char\n",
    "    return result\n",
    "\n"
   ]
  },
  {
   "cell_type": "markdown",
   "metadata": {},
   "source": [
    "\n",
    "First Non-Repeating Character: Given a string, find the first non-repeating character in it and return its index. If it doesn't exist, return -1.\n",
    "\n"
   ]
  },
  {
   "cell_type": "code",
   "execution_count": 14,
   "metadata": {},
   "outputs": [],
   "source": [
    "def non_repeat(s):\n",
    "    char_count ={}\n",
    "    for char in s:\n",
    "        if char in char_count:\n",
    "            char_count[char] += 1\n",
    "        else :\n",
    "            char_count[char] = 1\n",
    "    for i in range(len(s)):\n",
    "        if char_count[s[i]] == 1:\n",
    "            return i\n",
    "    return -1"
   ]
  },
  {
   "cell_type": "markdown",
   "metadata": {},
   "source": [
    "Longest Common Prefix: Write a function to find the longest common prefix string amongst an array of strings. If there is no common prefix, return an empty string \"\".\n"
   ]
  },
  {
   "cell_type": "code",
   "execution_count": 19,
   "metadata": {},
   "outputs": [
    {
     "data": {
      "text/plain": [
       "'inters'"
      ]
     },
     "execution_count": 19,
     "metadata": {},
     "output_type": "execute_result"
    }
   ],
   "source": [
    "arr1 = [\"interspace\", \"intersection\", \"interstellar\"]\n",
    "arr2= [\"dog\", \"racecar\", \"car\"]\n",
    "\n",
    "def longest_common_prefix(arr):\n",
    "    if not arr:\n",
    "        return \"\"\n",
    "    prefix = arr[0]\n",
    "    for string in arr[1:]:\n",
    "        for i in range(len(prefix)):\n",
    "            if i >=len(string)  or prefix[i] != string[i]:\n",
    "                prefix = prefix[:i]\n",
    "                break\n",
    "    return prefix \n",
    "\n",
    "longest_common_prefix(arr1)\n",
    "\n",
    "\n",
    "  \n",
    "        "
   ]
  }
 ],
 "metadata": {
  "kernelspec": {
   "display_name": "Python 3",
   "language": "python",
   "name": "python3"
  },
  "language_info": {
   "codemirror_mode": {
    "name": "ipython",
    "version": 3
   },
   "file_extension": ".py",
   "mimetype": "text/x-python",
   "name": "python",
   "nbconvert_exporter": "python",
   "pygments_lexer": "ipython3",
   "version": "3.11.1"
  }
 },
 "nbformat": 4,
 "nbformat_minor": 2
}
