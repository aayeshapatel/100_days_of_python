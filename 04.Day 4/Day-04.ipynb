{
 "cells": [
  {
   "cell_type": "markdown",
   "metadata": {},
   "source": [
    "Day-04"
   ]
  },
  {
   "cell_type": "markdown",
   "metadata": {},
   "source": [
    "\n",
    "You are going to write a program that will mark a spot on a map with an X.\n",
    "\n",
    "In the starting code, you will find a variable called map.\n",
    "\n",
    "This map contains a nested list. When map is printed this is what it looks like, notice the nesting:\n",
    "\n",
    "[['⬜️', '⬜️', '⬜️'],['⬜️', '⬜️', '⬜️'],['⬜️', '⬜️', '⬜️']]\n",
    "\n",
    "This is a bit hard to work with. So on lines 6 and 23, we've used this line of code print(f\"{row1}\\n{row2}\\n{row3}\") to format the 3 lists to be printed as a 3 by 3 grid, each on a new line.\n",
    "\n",
    "['⬜️', '⬜️', '⬜️']\n",
    "\n",
    "['⬜️', '⬜️', '⬜️']\n",
    "\n",
    "['⬜️', '⬜️', '⬜️']\n",
    "\n",
    "\n",
    "Example Input 1\n",
    "B3\n",
    "Example Output 1\n",
    "Hiding your treasure! X marks the spot.\n",
    "['⬜️', '️⬜️', '️⬜️']\n",
    "['⬜️', '⬜️', '️⬜️']\n",
    "['⬜️️', 'X', '⬜️️']\n"
   ]
  },
  {
   "cell_type": "code",
   "execution_count": 1,
   "metadata": {},
   "outputs": [
    {
     "name": "stdout",
     "output_type": "stream",
     "text": [
      "Hiding your treasure! X marks the spot.\n",
      "['⬜️', '️⬜️', '️⬜️']\n",
      "['X', '⬜️', '️⬜️']\n",
      "['⬜️️', '⬜️️', '⬜️️']\n"
     ]
    }
   ],
   "source": [
    "line1 = [\"⬜️\",\"️⬜️\",\"️⬜️\"]\n",
    "line2 = [\"⬜️\",\"⬜️\",\"️⬜️\"]\n",
    "line3 = [\"⬜️️\",\"⬜️️\",\"⬜️️\"]\n",
    "map = [line1, line2, line3]\n",
    "print(\"Hiding your treasure! X marks the spot.\")\n",
    "position = input() # Where do you want to put the treasure?\n",
    " \n",
    "\n",
    "letter = position[0].lower()\n",
    "abc = [\"a\", \"b\",\"c\"]\n",
    "letter_index = abc.index(letter)\n",
    "number_index = int(position[1])- 1 \n",
    "map[number_index][letter_index] = \"X\"\n",
    "\n",
    "\n",
    "print(f\"{line1}\\n{line2}\\n{line3}\")"
   ]
  },
  {
   "cell_type": "markdown",
   "metadata": {},
   "source": [
    "\n",
    "\n",
    "Make a rock, paper, scissors game.\n",
    "\n",
    "Start the game by asking the player:\n",
    "\n",
    "\"What do you choose? Type 0 for Rock, 1 for Paper or 2 for Scissors.\"\n",
    "\n",
    "From there you will need to figure out:\n",
    "\n",
    "How you will store the user's input.\n",
    "How you will generate a random choice for the computer.\n",
    "How you will compare the user's and the computer's choice to determine the winner (or a draw).\n",
    "And also how you will give feedback to the player.\n",
    "eg.  \n",
    "what do you choose ?\n",
    "Type 0 for rock , 1 for paper , and 2 for scissors\n",
    "3 simple rules:\n",
    "Rock wins agaunst scissors .\n",
    "scissors win against paper \n",
    "Paper wins against rock."
   ]
  },
  {
   "cell_type": "code",
   "execution_count": 6,
   "metadata": {},
   "outputs": [
    {
     "name": "stdout",
     "output_type": "stream",
     "text": [
      "\n",
      "    _______\n",
      "---'   ____)____\n",
      "          ______)\n",
      "       __________)\n",
      "      (____)\n",
      "---.__(___)\n",
      "\n",
      "\n",
      "    _______\n",
      "---'   ____)\n",
      "      (_____)\n",
      "      (_____)\n",
      "      (____)\n",
      "---.__(___)\n",
      "\n",
      "computer chose 0\n",
      "you lose\n"
     ]
    }
   ],
   "source": [
    "\n",
    "import random\n",
    "\n",
    "rock = '''\n",
    "    _______\n",
    "---'   ____)\n",
    "      (_____)\n",
    "      (_____)\n",
    "      (____)\n",
    "---.__(___)\n",
    "'''\n",
    "\n",
    "paper = '''\n",
    "    _______\n",
    "---'   ____)____\n",
    "          ______)\n",
    "          _______)\n",
    "         _______)\n",
    "---.__________)\n",
    "'''\n",
    "\n",
    "scissors = '''\n",
    "    _______\n",
    "---'   ____)____\n",
    "          ______)\n",
    "       __________)\n",
    "      (____)\n",
    "---.__(___)\n",
    "'''\n",
    "\n",
    "game_iamges  = [rock , paper, scissors]\n",
    "\n",
    "user_choice = int(input(\"What do you choose? Type 0 for Rock, 1 for Paper or 2 for Scissors.\"))\n",
    "print(game_iamges[user_choice])\n",
    "\n",
    "\n",
    "computer_choice =  random.randint(0,2)\n",
    "print(game_iamges[computer_choice])\n",
    "\n",
    "# lets have a look at the rules of the game :\n",
    "# Rock(0) wins agaunst scissors(2) .\n",
    "# scissors(2) win against paper(1)\n",
    "# Paper(1) wins against rock(0)\n",
    "\n",
    "print(f\"computer chose {computer_choice}\")\n",
    "if user_choice >= 3 or user_choice <0:\n",
    "    print(\"you typed invlaid number , you lose\")\n",
    "elif user_choice == 0 and  computer_choice == 2:\n",
    "    print(\"you won\")\n",
    "elif user_choice == 2 and  computer_choice == 1:\n",
    "    print(\"you won\")\n",
    "elif user_choice == 1 and  computer_choice == 0:\n",
    "    print(\"you won\")\n",
    "elif computer_choice== user_choice:\n",
    "    print(\"its a Draw\")\n",
    "else:\n",
    "    print(\"you lose\")\n"
   ]
  },
  {
   "cell_type": "markdown",
   "metadata": {},
   "source": []
  }
 ],
 "metadata": {
  "kernelspec": {
   "display_name": "Python 3",
   "language": "python",
   "name": "python3"
  },
  "language_info": {
   "codemirror_mode": {
    "name": "ipython",
    "version": 3
   },
   "file_extension": ".py",
   "mimetype": "text/x-python",
   "name": "python",
   "nbconvert_exporter": "python",
   "pygments_lexer": "ipython3",
   "version": "3.11.1"
  }
 },
 "nbformat": 4,
 "nbformat_minor": 2
}
