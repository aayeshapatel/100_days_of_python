{
 "cells": [
  {
   "cell_type": "markdown",
   "metadata": {},
   "source": [
    "### Control Flow with  if/ else and conditional statement "
   ]
  },
  {
   "cell_type": "markdown",
   "metadata": {},
   "source": [
    "Write a python code that displays a welcoming message and determines whether someone can ride the rollercoaster based on their height input? "
   ]
  },
  {
   "cell_type": "code",
   "execution_count": 5,
   "metadata": {},
   "outputs": [
    {
     "name": "stdout",
     "output_type": "stream",
     "text": [
      "Welcome to the rollercoaster!!\n",
      "You can ride the rollercoaster\n"
     ]
    }
   ],
   "source": [
    "print(\"Welcome to the rollercoaster!!\")\n",
    "height = int(input(\"What is your height in cm?\"))\n",
    "\n",
    "if height >= 120 :\n",
    "    print(\"You can ride the rollercoaster\")\n",
    "else:\n",
    "    (\"Sorry you have to grow taller before you can ride. \")\n",
    "\n"
   ]
  },
  {
   "cell_type": "markdown",
   "metadata": {},
   "source": [
    "# check number , even or odd\n"
   ]
  },
  {
   "cell_type": "code",
   "execution_count": 6,
   "metadata": {},
   "outputs": [
    {
     "name": "stdout",
     "output_type": "stream",
     "text": [
      "This is an even number\n"
     ]
    }
   ],
   "source": [
    "# which number you want to check \n",
    "\n",
    "number = int(input())\n",
    "\n",
    "# chcek if the number is even or odd\n",
    "if number % 2 ==0 :   \n",
    "    print(\"This is an even number\")\n",
    "else:\n",
    "    print(\"This is an odd number\")\n",
    "  \n"
   ]
  },
  {
   "cell_type": "markdown",
   "metadata": {},
   "source": [
    "------Nested if else statement----- "
   ]
  },
  {
   "cell_type": "code",
   "execution_count": 7,
   "metadata": {},
   "outputs": [
    {
     "name": "stdout",
     "output_type": "stream",
     "text": [
      "Welcome to the rollercoaster!!\n",
      "You can ride the rollercoaster\n",
      "please pay $7.\n"
     ]
    }
   ],
   "source": [
    "print(\"Welcome to the rollercoaster!!\")\n",
    "height = int(input(\"What is your height in cm?\"))\n",
    "\n",
    "if height >= 120 :\n",
    "    print(\"You can ride the rollercoaster\")\n",
    "    age = int(input(\"What is your age? \"))\n",
    "    if age < 12:\n",
    "        print(\"Please pay $5.\")\n",
    "    elif age <= 18 : \n",
    "        print(\"please pay $7.\")\n",
    "    else:\n",
    "        print(\"Please pay $12\")\n",
    "else:\n",
    "    (\"Sorry you have to grow taller before you can ride. \")"
   ]
  },
  {
   "cell_type": "markdown",
   "metadata": {},
   "source": [
    "Write a program that interprets the Body Mass Index (BMI) based on a user's weight and height.\n",
    "\n",
    "It should tell them the interpretation of their BMI based on the BMI value.\n",
    "\n",
    "Under 18.5 they are underweight\n",
    "Over 18.5 but below 25 they have a normal weight\n",
    "Equal to or over 25 but below 30 they are slightly overweight\n",
    "Equal to or over 30 but below 35 they are obese\n",
    "Equal to or over 35 they are clinically obese."
   ]
  },
  {
   "cell_type": "code",
   "execution_count": 8,
   "metadata": {},
   "outputs": [
    {
     "name": "stdout",
     "output_type": "stream",
     "text": [
      "Your BMI is 0.2984429065743945, you are underweight.\n"
     ]
    }
   ],
   "source": [
    "height = float(input())  # in meters e.g., 1.55\n",
    "weight = int(input())  # in kilograms e.g., 72\n",
    "# Your code below this line 👇\n",
    "bmi = weight / (height * height)\n",
    "if bmi < 18.5:\n",
    "  print(f\"Your BMI is {bmi}, you are underweight.\")\n",
    "elif bmi < 25:\n",
    "  print(f\"Your BMI is {bmi}, you have a normal weight.\")\n",
    "elif bmi < 30:\n",
    "  print(f\"Your BMI is {bmi}, you are slightly overweight.\")\n",
    "elif bmi < 35:\n",
    "  print(f\"Your BMI is {bmi}, you are obese.\")\n",
    "else:\n",
    "  print(f\"Your BMI is {bmi}, you are clinically obese.\")"
   ]
  },
  {
   "cell_type": "markdown",
   "metadata": {},
   "source": [
    "Write a program that works out whether if a given year is a leap year. A normal year has 365 days, leap years have 366, with an extra day in February.\n",
    "e.g. The year 2000:\n",
    "\n",
    "2000 ÷ 4 = 500 (Leap)\n",
    "\n",
    "2000 ÷ 100 = 20 (Not Leap)\n",
    "\n",
    "2000 ÷ 400 = 5 (Leap!)\n",
    "\n",
    "So the year 2000 is a leap year.\n",
    "\n",
    "But the year 2100 is not a leap year because:\n",
    "\n",
    "2100 ÷ 4 = 525 (Leap)\n",
    "\n",
    "2100 ÷ 100 = 21 (Not Leap)\n",
    "\n",
    "2100 ÷ 400 = 5.25 (Not Leap)"
   ]
  },
  {
   "cell_type": "code",
   "execution_count": null,
   "metadata": {},
   "outputs": [],
   "source": [
    "# Which year do you want to check?\n",
    "year = int(input())\n",
    "\n",
    "if year % 4 == 0:\n",
    "  if year % 100 == 0:\n",
    "    if year % 400 == 0:\n",
    "      print(\"Leap year\")\n",
    "    else:\n",
    "      print(\"Not leap year\")\n",
    "  else:\n",
    "    print(\"Leap year\")\n",
    "else:\n",
    "  print(\"Not leap year\")"
   ]
  },
  {
   "cell_type": "markdown",
   "metadata": {},
   "source": [
    "---- Multiple if statements --- "
   ]
  },
  {
   "cell_type": "code",
   "execution_count": 9,
   "metadata": {},
   "outputs": [
    {
     "name": "stdout",
     "output_type": "stream",
     "text": [
      "Welcome to the rollercoaster!!\n",
      "You can ride the rollercoaster\n",
      "Adult tickets are $12\n",
      "Your final bill is 15\n"
     ]
    }
   ],
   "source": [
    "print(\"Welcome to the rollercoaster!!\")\n",
    "height = int(input(\"What is your height in cm?\"))\n",
    "bill = 0 \n",
    "\n",
    "if height >= 120 :\n",
    "    print(\"You can ride the rollercoaster\")\n",
    "    age = int(input(\"What is your age? \"))\n",
    "    if age < 12:\n",
    "        print(\"Child tickets are $5.\")\n",
    "        bill = 5\n",
    "    elif age <= 18 : \n",
    "        print(\"Youth tickets are  $7.\")\n",
    "        bill= 7\n",
    "    else:\n",
    "        print(\"Adult tickets are $12\")\n",
    "        bill = 12\n",
    "\n",
    "    wants_photo = input(\"Do you want a photo taken? Y or N\")\n",
    "\n",
    "    if wants_photo == \"Y\":\n",
    "        bill += 3 \n",
    "    print(f\"Your final bill is ${bill}\") \n",
    "\n",
    "    \n",
    "\n",
    "else:\n",
    "    (\"Sorry you have to grow taller before you can ride. \")"
   ]
  },
  {
   "cell_type": "markdown",
   "metadata": {},
   "source": [
    "Congratulations, you've got a job at Python Pizza! Your first job is to build an automatic pizza order program.\n",
    "\n",
    "Based on a user's order, work out their final bill.\n",
    "\n",
    "Small pizza (S): $15\n",
    "\n",
    "Medium pizza (M): $20\n",
    "\n",
    "Large pizza (L): $25\n",
    "\n",
    "Add pepperoni for small pizza (Y or N): +$2\n",
    "\n",
    "Add pepperoni for medium or large pizza (Y or N): +$3\n",
    "\n",
    "Add extra cheese for any size pizza (Y or N): +$1\n",
    "\n",
    "Example Input\n",
    "L\n",
    "Y\n",
    "N\n",
    "Example Output\n",
    "Thank you for choosing Python Pizza Deliveries!\n",
    "Your final bill is: $28."
   ]
  },
  {
   "cell_type": "code",
   "execution_count": 15,
   "metadata": {},
   "outputs": [
    {
     "name": "stdout",
     "output_type": "stream",
     "text": [
      "Thank you for choosing Python Pizza Deliveries!\n",
      "Thank you for choosing Python Pizza Deliveries!\n",
      "Your final bill is $24.\n"
     ]
    }
   ],
   "source": [
    "print(\"Thank you for choosing Python Pizza Deliveries!\")\n",
    "size = input(\"What size pizza do you want? S, M, or L\") # What size pizza do you want? S, M, or L\n",
    "add_pepperoni = input(\"Do you want pepperoni? Y or N\") # Do you want pepperoni? Y or N\n",
    "extra_cheese = input(\"Do you want extra cheese? Y or N\") # Do you want extra cheese? Y or N\n",
    "\n",
    "# Write your code below this line 👇\n",
    "bill =0\n",
    "if size == \"S\":\n",
    "  bill= 15\n",
    "   \n",
    "  if add_pepperoni == \"Y\":\n",
    "    bill +=2\n",
    "  if extra_cheese== \"Y\":\n",
    "    bill += 1\n",
    "  print(f\"Your final bill is ${bill}.\")\n",
    "elif size == \"M\":\n",
    "  bill = 20\n",
    "  if add_pepperoni ==\"Y\":\n",
    "    bill +=3\n",
    "  if extra_cheese == \"Y\":\n",
    "    bill +=1\n",
    "  print(f\"Your final bill is ${bill}.\")\n",
    "else :\n",
    "  bill = 25\n",
    "  if add_pepperoni ==\"Y\":\n",
    "    bill +=3\n",
    "  if extra_cheese == \"Y\":\n",
    "    bill +=1\n",
    "  print(f\"Your final bill is ${bill}.\")"
   ]
  },
  {
   "cell_type": "code",
   "execution_count": null,
   "metadata": {},
   "outputs": [],
   "source": [
    "bill = 0\n",
    "if size == \"S\":\n",
    "  bill += 15\n",
    "elif size == \"M\":\n",
    "  bill += 20\n",
    "else:\n",
    "  bill += 25\n",
    "\n",
    "if add_pepperoni == \"Y\":\n",
    "  if size == \"S\":\n",
    "    bill += 2\n",
    "  else:\n",
    "    bill += 3\n",
    "\n",
    "if extra_cheese == \"Y\":\n",
    "  bill += 1\n",
    "\n",
    "print(f\"Your final bill is: ${bill}.\")"
   ]
  },
  {
   "cell_type": "markdown",
   "metadata": {},
   "source": [
    "You are going to write a program that tests the compatibility between two people.\n",
    "To work out the love score between two people:\n",
    "Take both people's names and check for the number of times the letters in the word TRUE occurs.\n",
    "Then check for the number of times the letters in the word LOVE occurs.\n",
    "Then combine these numbers to make a 2 digit number.\n",
    "\n",
    "For Love Scores less than 10 or greater than 90, the message should be:\n",
    "\"Your score is *x*, you go together like coke and mentos.\"\n",
    "\n",
    "For Love Scores between 40 and 50, the message should be:\n",
    "\"Your score is *y*, you are alright together.\"\n",
    "\n",
    "Otherwise, the message will just be their score. e.g.:\n",
    "\"Your score is *z*.\"\n",
    "e.g.\n",
    "\n",
    "name1 = \"Angela Yu\"\n",
    "name2 = \"Jack Bauer\"\n",
    "T occurs 0 times\n",
    "R occurs 1 time\n",
    "U occurs 2 times\n",
    "E occurs 2 times\n",
    "Total = 5\n",
    "\n",
    "L occurs 1 time\n",
    "O occurs 0 times\n",
    "V occurs 0 times\n",
    "E occurs 2 times\n",
    "Total = 3\n",
    "\n",
    "Love Score = 53\n",
    "\n",
    "Print: \"Your score is 53.\"\n",
    "\n",
    "These functions will help you:\n",
    "lower() count()\n",
    "\n",
    "Example Input 1\n",
    "Kanye West\n",
    "Kim Kardashian\n",
    "Example Output 1\n",
    "The Love Calculator is calculating your score...\n",
    "Your score is 42, you are alright together.\n"
   ]
  },
  {
   "cell_type": "code",
   "execution_count": 24,
   "metadata": {},
   "outputs": [
    {
     "name": "stdout",
     "output_type": "stream",
     "text": [
      "The Love Calculator is calculating your score...\n",
      "Your score is 0, you go together like coke and mentos.\n"
     ]
    }
   ],
   "source": [
    "print(\"The Love Calculator is calculating your score...\")\n",
    "name1 = input(\"What is your name?\") # \n",
    "name2 = input(\"What is their name?\")# \n",
    "\n",
    "combined_names = name1 + name2\n",
    " \n",
    "lower_names = combined_names.lower()\n",
    "t = lower_names.count(\"t\")\n",
    "r = lower_names.count(\"r\")\n",
    "u = lower_names.count(\"u\")\n",
    "e = lower_names.count(\"e\")\n",
    "\n",
    "first_digit = t + r + u + e\n",
    "\n",
    "l = lower_names.count(\"l\")\n",
    "o = lower_names.count(\"o\")\n",
    "v = lower_names.count(\"v\")\n",
    "e = lower_names.count(\"e\")\n",
    "\n",
    "second_digit = l + o + v + e\n",
    "\n",
    "score = str(first_digit) + str(second_digit)\n",
    "\n",
    "score = int(str(first_digit) + str(second_digit))\n",
    "if (score < 10) or (score > 90):\n",
    "  print(f\"Your score is {score}, you go together like coke and mentos.\")\n",
    "elif (score >= 40) and (score <= 50):\n",
    "  print(f\"Your score is {score}, you are alright together.\")\n",
    "else:\n",
    "  print(f\"Your score is {score}.\")"
   ]
  },
  {
   "cell_type": "markdown",
   "metadata": {},
   "source": []
  },
  {
   "cell_type": "code",
   "execution_count": 29,
   "metadata": {},
   "outputs": [
    {
     "name": "stdout",
     "output_type": "stream",
     "text": [
      "Welcome to the Treasure Island\n",
      "Your mission is to find the treasure\n",
      "attacked by traut.Game over.\n"
     ]
    }
   ],
   "source": [
    "print(\"Welcome to the Treasure Island\\nYour mission is to find the treasure\")\n",
    "\n",
    "direction = input(\"You are at the cross read . Where do you want to go? 'left' or 'right'. \")\n",
    "\n",
    "if direction == \"left\":\n",
    "    swim_or_wait = input(\"would you like to swim or like to wait .S or W\")\n",
    "    if swim_or_wait == \"W\":\n",
    "        door = input(\"which door do you want to open? red or blue or yeallow? R or B or Y\")\n",
    "        if door == \"R\":\n",
    "            print(\"Burned by fire. GAME OVER\")\n",
    "        elif door == \"B\":\n",
    "            print(\"Eaten by beast. GAME OVER\")\n",
    "        elif door == \"Y\":\n",
    "            print(\"You won\")\n",
    "        else:\n",
    "            print(\"Game Over\")\n",
    "    else:\n",
    "        print(\"attacked by traut.Game over.\")\n",
    "else:\n",
    "    print(\"fell into a hole . Game Over\")\n",
    "\n"
   ]
  }
 ],
 "metadata": {
  "kernelspec": {
   "display_name": "Python 3",
   "language": "python",
   "name": "python3"
  },
  "language_info": {
   "codemirror_mode": {
    "name": "ipython",
    "version": 3
   },
   "file_extension": ".py",
   "mimetype": "text/x-python",
   "name": "python",
   "nbconvert_exporter": "python",
   "pygments_lexer": "ipython3",
   "version": "3.11.1"
  }
 },
 "nbformat": 4,
 "nbformat_minor": 2
}
