{
 "cells": [
  {
   "cell_type": "markdown",
   "metadata": {},
   "source": [
    "## Write OOP classes to handle following scenarios:\n",
    "\n",
    "1. A user can  create and view 2D coordinates\n",
    "2. A user can find the distance between the coordinates \n",
    "3. A user can find the the distance of coordiunate from the Origin . \n",
    "4. A user can check if the point lies on a given line \n",
    "5. A user can find te distanc e betweeen a given 2d point and a given line "
   ]
  },
  {
   "cell_type": "code",
   "execution_count": 22,
   "metadata": {},
   "outputs": [],
   "source": [
    "# we will make the point class \n",
    "# 1. A user can  create and view 2D coordinates\n",
    "class Point:\n",
    "\n",
    "    def __init__(self,x,y):\n",
    "        self.x_cod = x\n",
    "        self.y_cod = y\n",
    "\n",
    "    def __str__(self):\n",
    "        return '<{},{}>'.format(self.x_cod, self.y_cod)\n",
    "    \n",
    "    def euclidean_distance(self,other):# self will also have x, y and other will also have x, y \n",
    "        return ((self.x_cod-other.x_cod)**2 + (self.y_cod-other.y_cod)**2)**0.5\n",
    "    \n",
    "    def distane_from_origin(self):\n",
    "        #return (self.x_cod**2+ self.y_cod**2)**0.5\n",
    "        return self.euclidean_distance(Point(0,0))\n",
    "\n",
    "\n",
    "class Line:\n",
    "\n",
    "    def __init__(self, A,B,C):\n",
    "        self.A = A\n",
    "        self.B= B\n",
    "        self.C= C\n",
    "\n",
    "\n",
    "    def __str__(self):\n",
    "        return '{}x +{}y +{} = 0'.format(self.A, self.B, self.C)\n",
    "    \n",
    "\n",
    "    def point_on_line(line, point): # here line is used as object instead od self  so dont get confused \n",
    "        if line.A*point.x_cod + line.B*point.y_cod +line.C ==0:\n",
    "            return \"Lies on the line\"\n",
    "        else:\n",
    "            return \"does not lies on the line\"\n",
    "        \n",
    "    def shortest_distance(line,point):\n",
    "        return abs(line.A*point.x_cod + line.B*point.y_cod +line.C)/(line.A**2 +line.B**2)**0.5\n"
   ]
  },
  {
   "cell_type": "code",
   "execution_count": 6,
   "metadata": {},
   "outputs": [
    {
     "name": "stdout",
     "output_type": "stream",
     "text": [
      "<0,0>\n"
     ]
    }
   ],
   "source": [
    "p1 = Point(0,0)\n",
    "# <x,y>\n",
    "print(p1)"
   ]
  },
  {
   "cell_type": "code",
   "execution_count": 9,
   "metadata": {},
   "outputs": [
    {
     "data": {
      "text/plain": [
       "14.142135623730951"
      ]
     },
     "execution_count": 9,
     "metadata": {},
     "output_type": "execute_result"
    }
   ],
   "source": [
    "# 2. A user can find the distance between the coordinates \n",
    "p1 = Point(0,0)\n",
    "p2= Point(10,10)\n",
    "\n",
    "p1.euclidean_distance(p2)"
   ]
  },
  {
   "cell_type": "code",
   "execution_count": 15,
   "metadata": {},
   "outputs": [
    {
     "data": {
      "text/plain": [
       "21.213203435596427"
      ]
     },
     "execution_count": 15,
     "metadata": {},
     "output_type": "execute_result"
    }
   ],
   "source": [
    "# Q3.\n",
    "\n",
    "p1 = Point(0,0)\n",
    "p2= Point(15,15)\n",
    "p2.distane_from_origin()"
   ]
  },
  {
   "cell_type": "code",
   "execution_count": 17,
   "metadata": {},
   "outputs": [
    {
     "name": "stdout",
     "output_type": "stream",
     "text": [
      "3x +4y +5 = 0\n"
     ]
    }
   ],
   "source": [
    "l1= Line(3,4,5)\n",
    "print(l1)"
   ]
  },
  {
   "cell_type": "code",
   "execution_count": 21,
   "metadata": {},
   "outputs": [
    {
     "name": "stdout",
     "output_type": "stream",
     "text": [
      "1x +1y +-2 = 0\n",
      "<1,1>\n"
     ]
    },
    {
     "data": {
      "text/plain": [
       "'Lies on the line'"
      ]
     },
     "execution_count": 21,
     "metadata": {},
     "output_type": "execute_result"
    }
   ],
   "source": [
    "l2 = Line(1,1,-2)# Line is class\n",
    "p1 = Point(1,1) #Point is also a class\n",
    "print(l2)\n",
    "print(p1)\n",
    "l2.point_on_line(p1)"
   ]
  },
  {
   "cell_type": "code",
   "execution_count": 25,
   "metadata": {},
   "outputs": [
    {
     "name": "stdout",
     "output_type": "stream",
     "text": [
      "1x +1y +-2 = 0\n",
      "<1,10>\n"
     ]
    },
    {
     "data": {
      "text/plain": [
       "6.363961030678928"
      ]
     },
     "execution_count": 25,
     "metadata": {},
     "output_type": "execute_result"
    }
   ],
   "source": [
    "# 5. A user can find te distanc e betweeen a given 2d point and a given line \n",
    "\n",
    "l1 = Line(1,1,-2)# Line is class\n",
    "p1 = Point(1,10) #Point is also a class\n",
    "print(l2)\n",
    "print(p1)\n",
    "\n",
    "l1.shortest_distance(p1)"
   ]
  },
  {
   "cell_type": "markdown",
   "metadata": {},
   "source": [
    "# How object access attributes "
   ]
  },
  {
   "cell_type": "code",
   "execution_count": 27,
   "metadata": {},
   "outputs": [],
   "source": [
    "class Person:\n",
    "\n",
    "    def __init__(self, name_input, country_input):\n",
    "        self.name = name_input\n",
    "        self.country = country_input\n",
    "\n",
    "    def greet(self):\n",
    "        if self.country == \"India\":\n",
    "            print(\"Namaste\",self.name)\n",
    "        elif self.country == \"Japan\":\n",
    "            print(\"konichiwa\",self.name)\n",
    "        else:\n",
    "            print(\"hello\", self.name)"
   ]
  },
  {
   "cell_type": "code",
   "execution_count": 28,
   "metadata": {},
   "outputs": [],
   "source": [
    "# how to access attributes\n",
    "\n",
    "p = Person(\"Aayesha\",\"Japan\")"
   ]
  },
  {
   "cell_type": "code",
   "execution_count": 29,
   "metadata": {},
   "outputs": [
    {
     "data": {
      "text/plain": [
       "'Japan'"
      ]
     },
     "execution_count": 29,
     "metadata": {},
     "output_type": "execute_result"
    }
   ],
   "source": [
    "p.country"
   ]
  },
  {
   "cell_type": "code",
   "execution_count": 30,
   "metadata": {},
   "outputs": [
    {
     "data": {
      "text/plain": [
       "'Aayesha'"
      ]
     },
     "execution_count": 30,
     "metadata": {},
     "output_type": "execute_result"
    }
   ],
   "source": [
    "p.name"
   ]
  },
  {
   "cell_type": "code",
   "execution_count": 32,
   "metadata": {},
   "outputs": [
    {
     "name": "stdout",
     "output_type": "stream",
     "text": [
      "konichiwa Aayesha\n"
     ]
    }
   ],
   "source": [
    "p.greet()"
   ]
  },
  {
   "cell_type": "code",
   "execution_count": 33,
   "metadata": {},
   "outputs": [
    {
     "ename": "AttributeError",
     "evalue": "'Person' object has no attribute 'gender'",
     "output_type": "error",
     "traceback": [
      "\u001b[1;31m---------------------------------------------------------------------------\u001b[0m",
      "\u001b[1;31mAttributeError\u001b[0m                            Traceback (most recent call last)",
      "Cell \u001b[1;32mIn[33], line 2\u001b[0m\n\u001b[0;32m      1\u001b[0m \u001b[38;5;66;03m# waht if i try to access non-existent attributes\u001b[39;00m\n\u001b[1;32m----> 2\u001b[0m \u001b[43mp\u001b[49m\u001b[38;5;241;43m.\u001b[39;49m\u001b[43mgender\u001b[49m()\n",
      "\u001b[1;31mAttributeError\u001b[0m: 'Person' object has no attribute 'gender'"
     ]
    }
   ],
   "source": [
    "# waht if i try to access non-existent attributes\n",
    "p.gender()\n",
    "#it will throw an error"
   ]
  },
  {
   "cell_type": "code",
   "execution_count": 37,
   "metadata": {},
   "outputs": [],
   "source": [
    "p.gender='female'\n",
    "#(here you hav ecreated an attribut from outside of class inside the class)\n",
    "#in simple words , aapne class k bahar se class k under ek attribute banaya "
   ]
  },
  {
   "cell_type": "code",
   "execution_count": 36,
   "metadata": {},
   "outputs": [
    {
     "data": {
      "text/plain": [
       "'Male'"
      ]
     },
     "execution_count": 36,
     "metadata": {},
     "output_type": "execute_result"
    }
   ],
   "source": [
    "p.gender"
   ]
  },
  {
   "cell_type": "markdown",
   "metadata": {},
   "source": [
    "# Reference Variable :\n"
   ]
  },
  {
   "cell_type": "markdown",
   "metadata": {},
   "source": [
    "p is not the object its just a reference variable which contains address of the object that has been created  \n",
    "\n",
    "1. we can ceate objects without reference varibale as well\n",
    "2. reference variable hoolds the object\n",
    "3. An object can have multiple reference variables\n",
    "4. Assigning the new reference to an existing object does not create a new object\n"
   ]
  },
  {
   "cell_type": "code",
   "execution_count": 40,
   "metadata": {},
   "outputs": [],
   "source": [
    "class Person:\n",
    "\n",
    "    def __init__(self):\n",
    "        self.name = \"Aayesha\"\n",
    "        self.country =\"Japan\"\n",
    "\n",
    "p= Person()\n",
    "q = p"
   ]
  },
  {
   "cell_type": "code",
   "execution_count": 41,
   "metadata": {},
   "outputs": [
    {
     "name": "stdout",
     "output_type": "stream",
     "text": [
      "2457642730448\n",
      "2457642730448\n"
     ]
    }
   ],
   "source": [
    "#multiple reference \n",
    "\n",
    "print(id(p))\n",
    "print(id(q))"
   ]
  },
  {
   "cell_type": "code",
   "execution_count": 42,
   "metadata": {},
   "outputs": [
    {
     "name": "stdout",
     "output_type": "stream",
     "text": [
      "Aayesha\n",
      "Aayesha\n"
     ]
    }
   ],
   "source": [
    "print(p.name)\n",
    "print(q.name)"
   ]
  },
  {
   "cell_type": "code",
   "execution_count": 44,
   "metadata": {},
   "outputs": [
    {
     "name": "stdout",
     "output_type": "stream",
     "text": [
      "Jakir\n",
      "Jakir\n"
     ]
    }
   ],
   "source": [
    "q.name =\"Jakir\"\n",
    "print(q.name)\n",
    "print(p.name)"
   ]
  },
  {
   "cell_type": "markdown",
   "metadata": {},
   "source": [
    "pass by reference"
   ]
  },
  {
   "cell_type": "code",
   "execution_count": 45,
   "metadata": {},
   "outputs": [
    {
     "name": "stdout",
     "output_type": "stream",
     "text": [
      "Hi my name is  Aayesha and I am a  Female\n"
     ]
    }
   ],
   "source": [
    "class Person:\n",
    "\n",
    "    def __init__(self,name,gender):\n",
    "        self.name = name\n",
    "        self.gender = gender\n",
    "\n",
    "# this is outside the class -> function:\n",
    "def greet(person):\n",
    "    print(\"Hi my name is \", person.name , \"and I am a \", person.gender)\n",
    "\n",
    "p = Person(\"Aayesha\", \"Female\")\n",
    "greet(p)"
   ]
  },
  {
   "cell_type": "code",
   "execution_count": 48,
   "metadata": {},
   "outputs": [
    {
     "name": "stdout",
     "output_type": "stream",
     "text": [
      "Hi my name is  Aayesha and I am a  Female\n",
      "ayeza\n",
      "female\n",
      "2457642772880\n"
     ]
    }
   ],
   "source": [
    "def greet(person):\n",
    "    print(\"Hi my name is \", person.name , \"and I am a \", person.gender)\n",
    "    p1= Person('ayeza','female')\n",
    "    return p1\n",
    "x= greet(p)\n",
    "print(x.name)\n",
    "print(x.gender)\n",
    "\n",
    "print(id(p))\n"
   ]
  },
  {
   "cell_type": "code",
   "execution_count": 49,
   "metadata": {},
   "outputs": [
    {
     "name": "stdout",
     "output_type": "stream",
     "text": [
      "2457649451728\n",
      "2457649451728\n"
     ]
    }
   ],
   "source": [
    "class Person:\n",
    "\n",
    "    def __init__(self,name,gender):\n",
    "        self.name = name\n",
    "        self.gender = gender\n",
    "\n",
    "# this is outside the class -> function:\n",
    "def greet(person):\n",
    "    person.name = \"aayesha\"\n",
    "    return person\n",
    "\n",
    "p=Person('Jakir', 'Male')\n",
    "print(id(p))\n",
    "p1= greet(p)\n",
    "print(id(p1))\n"
   ]
  },
  {
   "cell_type": "markdown",
   "metadata": {},
   "source": [
    "objects of User defined classes are mutable just like sets , list and dictinaries "
   ]
  },
  {
   "cell_type": "code",
   "execution_count": 50,
   "metadata": {},
   "outputs": [
    {
     "name": "stdout",
     "output_type": "stream",
     "text": [
      "[<__main__.Person object at 0x0000023C36F08E50>, <__main__.Person object at 0x0000023C37415990>, <__main__.Person object at 0x0000023C36ECA990>]\n"
     ]
    }
   ],
   "source": [
    "# list of objects :\n",
    "\n",
    "class Person:\n",
    "    def __init__(self,name, gender):\n",
    "        self.name = name\n",
    "        self.gender  = gender\n",
    "\n",
    "p1= Person('aayesha','Female')\n",
    "p2 = Person(\"ayeza\",\"Female\")\n",
    "p3 = Person(\"Jakir\", \"Male\")\n",
    "\n",
    "L= [p1,p2,p3]\n",
    "\n",
    "print(L) # since hamari classs me str function nhi hai isliye hume 3no ka addresss dikhai dega "
   ]
  },
  {
   "cell_type": "code",
   "execution_count": 66,
   "metadata": {},
   "outputs": [
    {
     "name": "stdout",
     "output_type": "stream",
     "text": [
      "aayesha\n",
      "ayeza\n",
      "Jakir\n"
     ]
    }
   ],
   "source": [
    "d= {\"p1\":p1,\"P2\":p2,\"p3\":p3}\n",
    "for i in d:\n",
    "    print(d[i].name)"
   ]
  },
  {
   "cell_type": "code",
   "execution_count": 67,
   "metadata": {},
   "outputs": [
    {
     "name": "stdout",
     "output_type": "stream",
     "text": [
      "Female\n",
      "Female\n",
      "Male\n"
     ]
    }
   ],
   "source": [
    "for i in d:\n",
    "    print(d[i].gender)"
   ]
  },
  {
   "cell_type": "code",
   "execution_count": 52,
   "metadata": {},
   "outputs": [
    {
     "name": "stdout",
     "output_type": "stream",
     "text": [
      "<__main__.Person object at 0x0000023C36F08E50>\n",
      "<__main__.Person object at 0x0000023C37415990>\n",
      "<__main__.Person object at 0x0000023C36ECA990>\n"
     ]
    }
   ],
   "source": [
    "for i in L:\n",
    "    print(i)"
   ]
  },
  {
   "cell_type": "code",
   "execution_count": 53,
   "metadata": {},
   "outputs": [
    {
     "name": "stdout",
     "output_type": "stream",
     "text": [
      "aayesha Female\n",
      "ayeza Female\n",
      "Jakir Male\n"
     ]
    }
   ],
   "source": [
    "for i in L:\n",
    "    print(i.name, i.gender)"
   ]
  },
  {
   "cell_type": "markdown",
   "metadata": {},
   "source": [
    "### Q. can we store objects  in Sets??"
   ]
  },
  {
   "cell_type": "markdown",
   "metadata": {},
   "source": [
    "\n",
    "Yes, you can store objects of a class in sets in Python, as long as the objects are hashable. Here's what that means:\n",
    "\n",
    "Hashability Requirements:\n",
    "\n",
    "Immutable: The object's state cannot be changed after creation.\n",
    "Unique hash value: The object must always produce the same hash value based on its internal data, using the __hash__() method.\n",
    "Equality comparison: The object must be comparable to other objects using the == operator, based on its internal data, using the __eq__() method."
   ]
  },
  {
   "cell_type": "code",
   "execution_count": 62,
   "metadata": {},
   "outputs": [
    {
     "name": "stdout",
     "output_type": "stream",
     "text": [
      "{Point(2, 4), Point(3, 5)}\n"
     ]
    }
   ],
   "source": [
    "class Point:\n",
    "    def __init__(self, x, y):\n",
    "        self.x = x\n",
    "        self.y = y\n",
    "\n",
    "    def __hash__(self):\n",
    "        return hash((self.x, self.y))  # Hash based on coordinates\n",
    "\n",
    "    def __eq__(self, other):\n",
    "        return self.x == other.x and self.y == other.y  # Equality based on coordinates\n",
    "    \n",
    "    def __repr__(self):\n",
    "        return f\"Point({self.x}, {self.y})\"\n",
    "\n",
    "points_set = set()\n",
    "point1 = Point(3, 5)\n",
    "point2 = Point(2, 4)\n",
    "point3 = Point(3, 5)  # Same coordinates as point1\n",
    "\n",
    "points_set.add(point1)\n",
    "points_set.add(point2)\n",
    "points_set.add(point3)  # Won't be added as it's considered equal to point1\n",
    "\n",
    "print(points_set)"
   ]
  },
  {
   "cell_type": "markdown",
   "metadata": {},
   "source": [
    "### Static variable ,(Vs instance varibales)"
   ]
  },
  {
   "cell_type": "code",
   "execution_count": 68,
   "metadata": {},
   "outputs": [],
   "source": [
    "\n",
    "#need for static vars\n",
    "\n",
    "\n",
    "#i want to implement counter in a class\n",
    "class Atm :\n",
    "    # constructor (speacial function) -> superpower\n",
    "    def __init__(self):\n",
    "        print(id(self))\n",
    "        self.pin =\"\"\n",
    "        self.__balance=  0\n",
    "        self.cust_id = 0 #<<<<\n",
    "        self.cust_id +=1\n",
    "\n",
    "        #self.menu\n",
    "\n",
    "    def get_balance(self):\n",
    "        return self.__balance\n",
    "    \n",
    "    def set_balance(self,new_value):\n",
    "        if type(new_value)==int:\n",
    "            self.__balance = new_value\n",
    "        else:\n",
    "            (\"invalid attempt\")\n",
    "    \n",
    "    def withdraw(self):\n",
    "        user_pin = input('Enter the pin')\n",
    "        if user_pin== self.pin:\n",
    "            #allow to withdraw\n",
    "            amount = int(input(\"Please eneter your baalnace\"))\n",
    "            if amount <= self.__balance:\n",
    "                self.__balance = self.__balance-amount\n",
    "                print(\"Withdrawl successful . Balance is \", self.__balance)\n",
    "            else:\n",
    "                print(\"You dont have sufficient balance\")\n",
    "        else:\n",
    "            print(\"incorrect pin\")\n",
    "\n",
    "            \n",
    "\n",
    "\n",
    "\n"
   ]
  },
  {
   "cell_type": "code",
   "execution_count": 69,
   "metadata": {},
   "outputs": [
    {
     "name": "stdout",
     "output_type": "stream",
     "text": [
      "2457648525136\n"
     ]
    }
   ],
   "source": [
    "c1= Atm()\n"
   ]
  },
  {
   "cell_type": "code",
   "execution_count": 70,
   "metadata": {},
   "outputs": [
    {
     "name": "stdout",
     "output_type": "stream",
     "text": [
      "2457648514768\n"
     ]
    }
   ],
   "source": [
    "c2 =Atm()"
   ]
  },
  {
   "cell_type": "code",
   "execution_count": 71,
   "metadata": {},
   "outputs": [
    {
     "name": "stdout",
     "output_type": "stream",
     "text": [
      "2457649460624\n"
     ]
    }
   ],
   "source": [
    "c3 =Atm()"
   ]
  },
  {
   "cell_type": "code",
   "execution_count": 72,
   "metadata": {},
   "outputs": [
    {
     "data": {
      "text/plain": [
       "1"
      ]
     },
     "execution_count": 72,
     "metadata": {},
     "output_type": "execute_result"
    }
   ],
   "source": [
    "c1.cust_id"
   ]
  },
  {
   "cell_type": "code",
   "execution_count": 73,
   "metadata": {},
   "outputs": [
    {
     "data": {
      "text/plain": [
       "1"
      ]
     },
     "execution_count": 73,
     "metadata": {},
     "output_type": "execute_result"
    }
   ],
   "source": [
    "c2.cust_id"
   ]
  },
  {
   "cell_type": "code",
   "execution_count": 74,
   "metadata": {},
   "outputs": [
    {
     "data": {
      "text/plain": [
       "1"
      ]
     },
     "execution_count": 74,
     "metadata": {},
     "output_type": "execute_result"
    }
   ],
   "source": [
    "c3.cust_id"
   ]
  },
  {
   "cell_type": "markdown",
   "metadata": {},
   "source": [
    "### using instance variable you cant implement counter"
   ]
  },
  {
   "cell_type": "markdown",
   "metadata": {},
   "source": [
    "from above example : cust_id for c1, c2, c3 are independent of each other\n",
    "what we want is yeh 3no same cust_id se baat kare but they are not doing it . tyhis is beacause instance variable\n",
    "\n",
    "so here comes \n",
    "\n",
    "# Static variable\n",
    "\n",
    "\n",
    "instance variable woh variable hota hai jiska value har variable ke liye alag hota hai \n",
    "\n",
    "static variable class ka varable hota hai jaise instance variable object ka variable hota hai. that means ki static variable  ka value har onject k liye same hota hai \n",
    "\n",
    "in our problem name of customer will be what? static or instance ?\n",
    "ans:obviously instance variable just liek customer balance\n",
    "\n",
    "bank's ifsc code should be a static variable(because for alll customers static variable is same )\n",
    "\n",
    "\n",
    "\n",
    "\n",
    "\n",
    "\n",
    "\n"
   ]
  },
  {
   "cell_type": "markdown",
   "metadata": {},
   "source": [
    "whenever you use static variable use krte ho toh aap class ka name pakad kr use krte ho \n",
    "jab bhi aap instance variable ka use krte ho , aap object ka naam pakad kr use krte ho "
   ]
  },
  {
   "cell_type": "code",
   "execution_count": 75,
   "metadata": {},
   "outputs": [],
   "source": [
    "class Atm :\n",
    "\n",
    "    counter = 1\n",
    "    # constructor (speacial function) -> superpower\n",
    "    def __init__(self):\n",
    "        print(id(self))\n",
    "        self.pin =\"\"\n",
    "        self.__balance=  0\n",
    "        self.cust_id = Atm.counter #<<<< \n",
    "        Atm.counter +=1\n",
    "\n",
    "        #self.menu\n",
    "\n",
    "    def get_balance(self):\n",
    "        return self.__balance\n",
    "    \n",
    "    def set_balance(self,new_value):\n",
    "        if type(new_value)==int:\n",
    "            self.__balance = new_value\n",
    "        else:\n",
    "            (\"invalid attempt\")\n",
    "    \n",
    "    def withdraw(self):\n",
    "        user_pin = input('Enter the pin')\n",
    "        if user_pin== self.pin:\n",
    "            #allow to withdraw\n",
    "            amount = int(input(\"Please eneter your baalnace\"))\n",
    "            if amount <= self.__balance:\n",
    "                self.__balance = self.__balance-amount\n",
    "                print(\"Withdrawl successful . Balance is \", self.__balance)\n",
    "            else:\n",
    "                print(\"You dont have sufficient balance\")\n",
    "        else:\n",
    "            print(\"incorrect pin\")\n"
   ]
  },
  {
   "cell_type": "code",
   "execution_count": 76,
   "metadata": {},
   "outputs": [
    {
     "name": "stdout",
     "output_type": "stream",
     "text": [
      "2457642916816\n"
     ]
    }
   ],
   "source": [
    "c1= Atm()"
   ]
  },
  {
   "cell_type": "code",
   "execution_count": 77,
   "metadata": {},
   "outputs": [
    {
     "name": "stdout",
     "output_type": "stream",
     "text": [
      "2457648445584\n"
     ]
    }
   ],
   "source": [
    "c2 = Atm()"
   ]
  },
  {
   "cell_type": "code",
   "execution_count": 78,
   "metadata": {},
   "outputs": [
    {
     "name": "stdout",
     "output_type": "stream",
     "text": [
      "2457648967696\n"
     ]
    }
   ],
   "source": [
    "c3 = Atm()\n"
   ]
  },
  {
   "cell_type": "code",
   "execution_count": 79,
   "metadata": {},
   "outputs": [
    {
     "data": {
      "text/plain": [
       "1"
      ]
     },
     "execution_count": 79,
     "metadata": {},
     "output_type": "execute_result"
    }
   ],
   "source": [
    "c1.cust_id"
   ]
  },
  {
   "cell_type": "code",
   "execution_count": 80,
   "metadata": {},
   "outputs": [
    {
     "data": {
      "text/plain": [
       "2"
      ]
     },
     "execution_count": 80,
     "metadata": {},
     "output_type": "execute_result"
    }
   ],
   "source": [
    "c2.cust_id"
   ]
  },
  {
   "cell_type": "code",
   "execution_count": 81,
   "metadata": {},
   "outputs": [
    {
     "data": {
      "text/plain": [
       "3"
      ]
     },
     "execution_count": 81,
     "metadata": {},
     "output_type": "execute_result"
    }
   ],
   "source": [
    "c3.cust_id"
   ]
  },
  {
   "cell_type": "code",
   "execution_count": 82,
   "metadata": {},
   "outputs": [
    {
     "data": {
      "text/plain": [
       "4"
      ]
     },
     "execution_count": 82,
     "metadata": {},
     "output_type": "execute_result"
    }
   ],
   "source": [
    "Atm.counter"
   ]
  },
  {
   "cell_type": "markdown",
   "metadata": {},
   "source": []
  }
 ],
 "metadata": {
  "kernelspec": {
   "display_name": "Python 3",
   "language": "python",
   "name": "python3"
  },
  "language_info": {
   "codemirror_mode": {
    "name": "ipython",
    "version": 3
   },
   "file_extension": ".py",
   "mimetype": "text/x-python",
   "name": "python",
   "nbconvert_exporter": "python",
   "pygments_lexer": "ipython3",
   "version": "3.11.1"
  }
 },
 "nbformat": 4,
 "nbformat_minor": 2
}
